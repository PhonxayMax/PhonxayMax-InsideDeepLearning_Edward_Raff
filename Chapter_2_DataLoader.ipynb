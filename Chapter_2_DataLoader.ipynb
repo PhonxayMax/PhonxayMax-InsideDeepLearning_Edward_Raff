{
  "nbformat": 4,
  "nbformat_minor": 0,
  "metadata": {
    "colab": {
      "provenance": [],
      "authorship_tag": "ABX9TyPezS9EvrASONGQP4NiEpEe",
      "include_colab_link": true
    },
    "kernelspec": {
      "name": "python3",
      "display_name": "Python 3"
    },
    "language_info": {
      "name": "python"
    }
  },
  "cells": [
    {
      "cell_type": "markdown",
      "metadata": {
        "id": "view-in-github",
        "colab_type": "text"
      },
      "source": [
        "<a href=\"https://colab.research.google.com/github/PhonxayMax/PhonxayMax-InsideDeepLearning_Edward_Raff/blob/main/Chapter_2_DataLoader.ipynb\" target=\"_parent\"><img src=\"https://colab.research.google.com/assets/colab-badge.svg\" alt=\"Open In Colab\"/></a>"
      ]
    },
    {
      "cell_type": "code",
      "source": [
        "import torch\n",
        "from torch.utils.data import DataLoader, Dataset"
      ],
      "metadata": {
        "id": "pVwqYuYvmjs8"
      },
      "execution_count": 1,
      "outputs": []
    },
    {
      "cell_type": "code",
      "source": [
        "class Simple1DRegressionDataset(Dataset):\n",
        "\n",
        "    def __init__(self, X, y):\n",
        "        super(Simple1DRegressionDataset, self).__init__()\n",
        "        self.X = X.reshape(-1,1)\n",
        "        self.y = y.reshape(-1,1)\n",
        "\n",
        "\n",
        "    def __getitem__(self, index):\n",
        "        return torch.tensor(self.X[index,:], dtype=torch.float32), torch.tensor(self.y[index], dtype=torch.float32)\n",
        "\n",
        "    def __len__(self):\n",
        "        return self.X.shape[0]"
      ],
      "metadata": {
        "id": "Kw21HAG0bGcV"
      },
      "execution_count": 3,
      "outputs": []
    },
    {
      "cell_type": "markdown",
      "source": [
        "# Copy all code then prompt it down on ChatGPT\n",
        "\n",
        "##for entire dataset X and y have 100 values but we fetch from this just 10 values from the lines batch_size=10"
      ],
      "metadata": {
        "id": "4_H_P2CTm8z0"
      }
    },
    {
      "cell_type": "code",
      "source": [
        "# Example Data\n",
        "\n",
        "X = torch.linspace(0, 10, 100)  # 100 points between 0 and 10\n",
        "y = 2 * X + 1  # Simple linear function (y = 2x + 1)\n",
        "\n",
        "\n",
        "# Create Dataset\n",
        "dataset = Simple1DRegressionDataset(X, y)\n",
        "dataset"
      ],
      "metadata": {
        "colab": {
          "base_uri": "https://localhost:8080/"
        },
        "id": "pFxosyYKeIae",
        "outputId": "b161279c-be43-4724-f1ca-8d1e0bd07e0c"
      },
      "execution_count": 4,
      "outputs": [
        {
          "output_type": "execute_result",
          "data": {
            "text/plain": [
              "<__main__.Simple1DRegressionDataset at 0x7d0da78b0250>"
            ]
          },
          "metadata": {},
          "execution_count": 4
        }
      ]
    },
    {
      "cell_type": "code",
      "execution_count": 7,
      "metadata": {
        "colab": {
          "base_uri": "https://localhost:8080/"
        },
        "id": "IcBIan0ga2AG",
        "outputId": "4af6acc0-10fd-42b1-a99f-75942ffd0a47"
      },
      "outputs": [
        {
          "output_type": "stream",
          "name": "stdout",
          "text": [
            "Inputs: torch.Size([10, 1])\n",
            "Labels: torch.Size([10, 1])\n",
            "tensor([[ 1.2121],\n",
            "        [ 2.9293],\n",
            "        [ 5.3535],\n",
            "        [ 4.0404],\n",
            "        [ 6.2626],\n",
            "        [ 0.9091],\n",
            "        [10.0000],\n",
            "        [ 4.9495],\n",
            "        [ 1.1111],\n",
            "        [ 2.8283]])\n",
            "tensor([[ 3.4242],\n",
            "        [ 6.8586],\n",
            "        [11.7071],\n",
            "        [ 9.0808],\n",
            "        [13.5253],\n",
            "        [ 2.8182],\n",
            "        [21.0000],\n",
            "        [10.8990],\n",
            "        [ 3.2222],\n",
            "        [ 6.6566]])\n",
            "Inputs: torch.Size([10, 1])\n",
            "Labels: torch.Size([10, 1])\n",
            "tensor([[5.9596],\n",
            "        [9.3939],\n",
            "        [9.8990],\n",
            "        [2.7273],\n",
            "        [8.6869],\n",
            "        [5.0505],\n",
            "        [6.1616],\n",
            "        [1.9192],\n",
            "        [1.3131],\n",
            "        [2.6263]])\n",
            "tensor([[12.9192],\n",
            "        [19.7879],\n",
            "        [20.7980],\n",
            "        [ 6.4545],\n",
            "        [18.3737],\n",
            "        [11.1010],\n",
            "        [13.3232],\n",
            "        [ 4.8384],\n",
            "        [ 3.6263],\n",
            "        [ 6.2525]])\n",
            "Inputs: torch.Size([10, 1])\n",
            "Labels: torch.Size([10, 1])\n",
            "tensor([[9.6970],\n",
            "        [2.4242],\n",
            "        [7.3737],\n",
            "        [7.9798],\n",
            "        [9.2929],\n",
            "        [5.4545],\n",
            "        [9.1919],\n",
            "        [0.4040],\n",
            "        [3.4343],\n",
            "        [5.1515]])\n",
            "tensor([[20.3939],\n",
            "        [ 5.8485],\n",
            "        [15.7475],\n",
            "        [16.9596],\n",
            "        [19.5859],\n",
            "        [11.9091],\n",
            "        [19.3838],\n",
            "        [ 1.8081],\n",
            "        [ 7.8687],\n",
            "        [11.3030]])\n",
            "Inputs: torch.Size([10, 1])\n",
            "Labels: torch.Size([10, 1])\n",
            "tensor([[1.5152],\n",
            "        [3.2323],\n",
            "        [8.3838],\n",
            "        [5.5556],\n",
            "        [3.7374],\n",
            "        [6.3636],\n",
            "        [7.8788],\n",
            "        [3.5354],\n",
            "        [7.7778],\n",
            "        [7.1717]])\n",
            "tensor([[ 4.0303],\n",
            "        [ 7.4646],\n",
            "        [17.7677],\n",
            "        [12.1111],\n",
            "        [ 8.4747],\n",
            "        [13.7273],\n",
            "        [16.7576],\n",
            "        [ 8.0707],\n",
            "        [16.5556],\n",
            "        [15.3434]])\n",
            "Inputs: torch.Size([10, 1])\n",
            "Labels: torch.Size([10, 1])\n",
            "tensor([[6.0606],\n",
            "        [0.0000],\n",
            "        [4.6465],\n",
            "        [1.6162],\n",
            "        [3.3333],\n",
            "        [9.0909],\n",
            "        [5.2525],\n",
            "        [7.2727],\n",
            "        [9.7980],\n",
            "        [2.5253]])\n",
            "tensor([[13.1212],\n",
            "        [ 1.0000],\n",
            "        [10.2929],\n",
            "        [ 4.2323],\n",
            "        [ 7.6667],\n",
            "        [19.1818],\n",
            "        [11.5051],\n",
            "        [15.5455],\n",
            "        [20.5960],\n",
            "        [ 6.0505]])\n",
            "Inputs: torch.Size([10, 1])\n",
            "Labels: torch.Size([10, 1])\n",
            "tensor([[0.1010],\n",
            "        [3.1313],\n",
            "        [2.2222],\n",
            "        [7.4747],\n",
            "        [8.9899],\n",
            "        [6.6667],\n",
            "        [4.3434],\n",
            "        [4.7475],\n",
            "        [8.0808],\n",
            "        [8.8889]])\n",
            "tensor([[ 1.2020],\n",
            "        [ 7.2626],\n",
            "        [ 5.4444],\n",
            "        [15.9495],\n",
            "        [18.9798],\n",
            "        [14.3333],\n",
            "        [ 9.6869],\n",
            "        [10.4949],\n",
            "        [17.1616],\n",
            "        [18.7778]])\n",
            "Inputs: torch.Size([10, 1])\n",
            "Labels: torch.Size([10, 1])\n",
            "tensor([[0.6061],\n",
            "        [9.5960],\n",
            "        [6.5657],\n",
            "        [5.6566],\n",
            "        [1.7172],\n",
            "        [3.0303],\n",
            "        [0.8081],\n",
            "        [0.2020],\n",
            "        [5.7576],\n",
            "        [1.8182]])\n",
            "tensor([[ 2.2121],\n",
            "        [20.1919],\n",
            "        [14.1313],\n",
            "        [12.3131],\n",
            "        [ 4.4343],\n",
            "        [ 7.0606],\n",
            "        [ 2.6162],\n",
            "        [ 1.4040],\n",
            "        [12.5152],\n",
            "        [ 4.6364]])\n",
            "Inputs: torch.Size([10, 1])\n",
            "Labels: torch.Size([10, 1])\n",
            "tensor([[8.1818],\n",
            "        [2.1212],\n",
            "        [0.7071],\n",
            "        [4.4444],\n",
            "        [6.9697],\n",
            "        [7.5758],\n",
            "        [2.3232],\n",
            "        [4.5455],\n",
            "        [9.4949],\n",
            "        [1.4141]])\n",
            "tensor([[17.3636],\n",
            "        [ 5.2424],\n",
            "        [ 2.4141],\n",
            "        [ 9.8889],\n",
            "        [14.9394],\n",
            "        [16.1515],\n",
            "        [ 5.6465],\n",
            "        [10.0909],\n",
            "        [19.9899],\n",
            "        [ 3.8283]])\n",
            "Inputs: torch.Size([10, 1])\n",
            "Labels: torch.Size([10, 1])\n",
            "tensor([[4.1414],\n",
            "        [8.7879],\n",
            "        [2.0202],\n",
            "        [8.5859],\n",
            "        [6.4646],\n",
            "        [0.3030],\n",
            "        [6.8687],\n",
            "        [4.8485],\n",
            "        [7.0707],\n",
            "        [3.6364]])\n",
            "tensor([[ 9.2828],\n",
            "        [18.5758],\n",
            "        [ 5.0404],\n",
            "        [18.1717],\n",
            "        [13.9293],\n",
            "        [ 1.6061],\n",
            "        [14.7374],\n",
            "        [10.6970],\n",
            "        [15.1414],\n",
            "        [ 8.2727]])\n",
            "Inputs: torch.Size([10, 1])\n",
            "Labels: torch.Size([10, 1])\n",
            "tensor([[6.7677],\n",
            "        [4.2424],\n",
            "        [8.2828],\n",
            "        [3.8384],\n",
            "        [0.5051],\n",
            "        [7.6768],\n",
            "        [3.9394],\n",
            "        [5.8586],\n",
            "        [8.4848],\n",
            "        [1.0101]])\n",
            "tensor([[14.5354],\n",
            "        [ 9.4848],\n",
            "        [17.5657],\n",
            "        [ 8.6768],\n",
            "        [ 2.0101],\n",
            "        [16.3535],\n",
            "        [ 8.8788],\n",
            "        [12.7172],\n",
            "        [17.9697],\n",
            "        [ 3.0202]])\n"
          ]
        },
        {
          "output_type": "stream",
          "name": "stderr",
          "text": [
            "<ipython-input-3-8a0cf4ebd8b9>:10: UserWarning: To copy construct from a tensor, it is recommended to use sourceTensor.clone().detach() or sourceTensor.clone().detach().requires_grad_(True), rather than torch.tensor(sourceTensor).\n",
            "  return torch.tensor(self.X[index,:], dtype=torch.float32), torch.tensor(self.y[index], dtype=torch.float32)\n"
          ]
        }
      ],
      "source": [
        "\n",
        "# Create DataLoader for batching and shuffling\n",
        "training_loader = DataLoader(dataset, batch_size=10, shuffle=True)\n",
        "\n",
        "# Fetch a single batch\n",
        "for inputs, labels in training_loader:\n",
        "    print(\"Inputs:\", inputs.shape)  # (batch_size, 1)\n",
        "    print(\"Labels:\", labels.shape)  # (batch_size, 1)\n",
        "    print(inputs)\n",
        "    print(labels)\n",
        "    #break  # Print only the first batch\n"
      ]
    },
    {
      "cell_type": "code",
      "source": [
        "import numpy as np\n",
        "X = np.array([[1], [2], [3], [4], [5]])  # Shape: (5,1)\n",
        "print(X.dtype)\n",
        "index = 2\n",
        "print(X)\n",
        "print(X[index, :])  # Output: [3] (still 2D, shape (1,))\n",
        "print(X[index, :].dtype)\n",
        "print(X[index])     # Output: [3] (same result in this case)\n"
      ],
      "metadata": {
        "colab": {
          "base_uri": "https://localhost:8080/"
        },
        "id": "k6YBzisfcDKI",
        "outputId": "38c42b91-f03a-4582-b1f3-834bec34fa7b"
      },
      "execution_count": null,
      "outputs": [
        {
          "output_type": "stream",
          "name": "stdout",
          "text": [
            "int64\n",
            "[[1]\n",
            " [2]\n",
            " [3]\n",
            " [4]\n",
            " [5]]\n",
            "[3]\n",
            "int64\n",
            "[3]\n"
          ]
        }
      ]
    }
  ]
}