{
  "nbformat": 4,
  "nbformat_minor": 0,
  "metadata": {
    "colab": {
      "provenance": [],
      "authorship_tag": "ABX9TyPWcCKpoJ08gb8mjD++IzEk",
      "include_colab_link": true
    },
    "kernelspec": {
      "name": "python3",
      "display_name": "Python 3"
    },
    "language_info": {
      "name": "python"
    }
  },
  "cells": [
    {
      "cell_type": "markdown",
      "metadata": {
        "id": "view-in-github",
        "colab_type": "text"
      },
      "source": [
        "<a href=\"https://colab.research.google.com/github/PhonxayMax/PhonxayMax-InsideDeepLearning_Edward_Raff/blob/main/Chapter_2_DataLoader.ipynb\" target=\"_parent\"><img src=\"https://colab.research.google.com/assets/colab-badge.svg\" alt=\"Open In Colab\"/></a>"
      ]
    },
    {
      "cell_type": "code",
      "source": [
        "class Simple1DRegressionDataset(Dataset):\n",
        "\n",
        "    def __init__(self, X, y):\n",
        "        super(Simple1DRegressionDataset, self).__init__()\n",
        "        self.X = X.reshape(-1,1)\n",
        "        self.y = y.reshape(-1,1)\n",
        "\n",
        "\n",
        "    def __getitem__(self, index):\n",
        "        return torch.tensor(self.X[index,:], dtype=torch.float32), torch.tensor(self.y[index], dtype=torch.float32)\n",
        "\n",
        "    def __len__(self):\n",
        "        return self.X.shape[0]\n",
        "\n",
        "training_loader = DataLoader(Simple1DRegressionDataset(X, y), shuffle=True)"
      ],
      "metadata": {
        "id": "Kw21HAG0bGcV"
      },
      "execution_count": 2,
      "outputs": []
    },
    {
      "cell_type": "code",
      "source": [
        "# Example Data\n",
        "import torch\n",
        "from torch.utils.data import DataLoader, Dataset\n",
        "\n",
        "X = torch.linspace(0, 10, 100)  # 100 points between 0 and 10\n",
        "y = 2 * X + 1  # Simple linear function (y = 2x + 1)\n",
        "\n",
        "\n",
        "# Create Dataset\n",
        "dataset = Simple1DRegressionDataset(X, y)\n",
        "dataset"
      ],
      "metadata": {
        "colab": {
          "base_uri": "https://localhost:8080/"
        },
        "id": "pFxosyYKeIae",
        "outputId": "e85443a2-63c3-4283-dda3-902f682f6e12"
      },
      "execution_count": 13,
      "outputs": [
        {
          "output_type": "execute_result",
          "data": {
            "text/plain": [
              "<__main__.Simple1DRegressionDataset at 0x7ee949fa0c90>"
            ]
          },
          "metadata": {},
          "execution_count": 13
        }
      ]
    },
    {
      "cell_type": "code",
      "execution_count": 16,
      "metadata": {
        "colab": {
          "base_uri": "https://localhost:8080/"
        },
        "id": "IcBIan0ga2AG",
        "outputId": "33dddaf8-5408-4406-e305-109cde943746"
      },
      "outputs": [
        {
          "output_type": "stream",
          "name": "stdout",
          "text": [
            "Inputs: torch.Size([10, 1])\n",
            "Labels: torch.Size([10, 1])\n",
            "tensor([[7.6768],\n",
            "        [7.8788],\n",
            "        [5.8586],\n",
            "        [0.7071],\n",
            "        [7.5758],\n",
            "        [3.5354],\n",
            "        [7.3737],\n",
            "        [4.0404],\n",
            "        [6.6667],\n",
            "        [4.3434]])\n",
            "tensor([[16.3535],\n",
            "        [16.7576],\n",
            "        [12.7172],\n",
            "        [ 2.4141],\n",
            "        [16.1515],\n",
            "        [ 8.0707],\n",
            "        [15.7475],\n",
            "        [ 9.0808],\n",
            "        [14.3333],\n",
            "        [ 9.6869]])\n"
          ]
        },
        {
          "output_type": "stream",
          "name": "stderr",
          "text": [
            "<ipython-input-2-5f3f45851640>:10: UserWarning: To copy construct from a tensor, it is recommended to use sourceTensor.clone().detach() or sourceTensor.clone().detach().requires_grad_(True), rather than torch.tensor(sourceTensor).\n",
            "  return torch.tensor(self.X[index,:], dtype=torch.float32), torch.tensor(self.y[index], dtype=torch.float32)\n"
          ]
        }
      ],
      "source": [
        "\n",
        "# Create DataLoader for batching and shuffling\n",
        "training_loader = DataLoader(dataset, batch_size=10, shuffle=True)\n",
        "\n",
        "# Fetch a single batch\n",
        "for inputs, labels in training_loader:\n",
        "    print(\"Inputs:\", inputs.shape)  # (batch_size, 1)\n",
        "    print(\"Labels:\", labels.shape)  # (batch_size, 1)\n",
        "    break  # Print only the first batch\n",
        "print(inputs)\n",
        "print(labels)"
      ]
    },
    {
      "cell_type": "code",
      "source": [
        "import numpy as np\n",
        "X = np.array([[1], [2], [3], [4], [5]])  # Shape: (5,1)\n",
        "print(X.dtype)\n",
        "index = 2\n",
        "print(X)\n",
        "print(X[index, :])  # Output: [3] (still 2D, shape (1,))\n",
        "print(X[index, :].dtype)\n",
        "print(X[index])     # Output: [3] (same result in this case)\n"
      ],
      "metadata": {
        "colab": {
          "base_uri": "https://localhost:8080/"
        },
        "id": "k6YBzisfcDKI",
        "outputId": "38c42b91-f03a-4582-b1f3-834bec34fa7b"
      },
      "execution_count": 10,
      "outputs": [
        {
          "output_type": "stream",
          "name": "stdout",
          "text": [
            "int64\n",
            "[[1]\n",
            " [2]\n",
            " [3]\n",
            " [4]\n",
            " [5]]\n",
            "[3]\n",
            "int64\n",
            "[3]\n"
          ]
        }
      ]
    }
  ]
}